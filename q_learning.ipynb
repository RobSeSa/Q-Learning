{
 "metadata": {
  "language_info": {
   "codemirror_mode": {
    "name": "ipython",
    "version": 3
   },
   "file_extension": ".py",
   "mimetype": "text/x-python",
   "name": "python",
   "nbconvert_exporter": "python",
   "pygments_lexer": "ipython3",
   "version": "3.7.3-final"
  },
  "orig_nbformat": 2,
  "kernelspec": {
   "name": "python3",
   "display_name": "Python 3",
   "language": "python"
  }
 },
 "nbformat": 4,
 "nbformat_minor": 2,
 "cells": [
  {
   "cell_type": "code",
   "execution_count": 1,
   "metadata": {},
   "outputs": [],
   "source": [
    "# main script for reading the matrix csv file and learning off of the given matrix\n",
    "# directly from https://realpython.com/python-csv/#reading-csv-files-with-csv\n",
    "import csv\n",
    "import numpy as np"
   ]
  },
  {
   "cell_type": "code",
   "execution_count": 3,
   "metadata": {},
   "outputs": [
    {
     "output_type": "stream",
     "name": "stdout",
     "text": [
      "Processed 0 lines.\n"
     ]
    }
   ],
   "source": [
    "with open('matrix_data.csv') as csv_file:\n",
    "    csv_reader = csv.reader(csv_file, delimiter=',')\n",
    "    data = list(csv_reader)\n",
    "    data = data[0]\n",
    "    line_count = 0\n",
    "    for row in csv_reader:\n",
    "        if line_count == 0:\n",
    "            print(f'Column names are {\", \".join(row)}')\n",
    "            line_count += 1\n",
    "        else:\n",
    "            print(f'\\t{row[0]} works in the {row[1]} department, and was born in {row[2]}.')\n",
    "            line_count += 1\n",
    "    print(f'Processed {line_count} lines.')"
   ]
  },
  {
   "cell_type": "code",
   "execution_count": 4,
   "metadata": {},
   "outputs": [],
   "source": [
    "epsilon = float(data[0])\n",
    "discount_factor = float(data[1])\n",
    "learning_rate = float(data[2])\n",
    "width = int(float(data[3]))\n",
    "height = int(float(data[4]))"
   ]
  },
  {
   "cell_type": "code",
   "execution_count": 5,
   "metadata": {},
   "outputs": [
    {
     "output_type": "stream",
     "name": "stdout",
     "text": [
      "Epsilon: 1.0\nDiscount factor: 0.99\nLearning rate: 0.01\nRows: 11\nColumns: 11\n"
     ]
    }
   ],
   "source": [
    "# printing hyper parameters\n",
    "print(\"Epsilon:\", epsilon)\n",
    "print(\"Discount factor:\", discount_factor)\n",
    "print(\"Learning rate:\", learning_rate)\n",
    "print(\"Rows:\", height)\n",
    "print(\"Columns:\", width)"
   ]
  },
  {
   "cell_type": "code",
   "execution_count": 6,
   "metadata": {},
   "outputs": [
    {
     "output_type": "stream",
     "name": "stdout",
     "text": [
      "[[-100. -100. -100. -100. -100.  100. -100. -100. -100. -100. -100.]\n [-100.   -1.   -1.   -1.   -1.   -1.   -1.   -1.   -1.   -1. -100.]\n [-100.   -1. -100. -100. -100. -100. -100.   -1. -100.   -1. -100.]\n [-100.   -1.   -1.   -1.   -1.   -1.   -1.   -1. -100.   -1. -100.]\n [-100. -100. -100.   -1. -100. -100. -100.   -1. -100. -100. -100.]\n [  -1.   -1.   -1.   -1.   -1.   -1.   -1.   -1.   -1.   -1.   -1.]\n [-100. -100. -100. -100. -100.   -1. -100. -100. -100. -100. -100.]\n [-100.   -1.   -1.   -1.   -1.   -1.   -1.   -1.   -1.   -1. -100.]\n [-100. -100. -100.   -1. -100. -100. -100.   -1. -100. -100. -100.]\n [  -1.   -1.   -1.   -1.   -1.   -1.   -1.   -1.   -1.   -1.   -1.]\n [-100. -100. -100. -100. -100. -100. -100. -100. -100. -100. -100.]]\n"
     ]
    }
   ],
   "source": [
    "values = np.zeros((height, width))\n",
    "\n",
    "index = 5 # start at index 5 to skip parameters\n",
    "for row in range(height):\n",
    "    for col in range(width):\n",
    "        values[row][col] = data[index]\n",
    "        index += 1\n",
    "\n",
    "print(values)"
   ]
  },
  {
   "cell_type": "code",
   "execution_count": 23,
   "metadata": {},
   "outputs": [],
   "source": [
    "actions = ['up', 'right', 'down', 'left']\n",
    "num_actions = 4"
   ]
  },
  {
   "cell_type": "code",
   "execution_count": 37,
   "metadata": {},
   "outputs": [],
   "source": [
    "# Start of Q-Learning implementation\n",
    "# define helper functions\n",
    "\n",
    "# checks if the given row, col state is terminal\n",
    "def is_terminal(values, row, col):\n",
    "    # -1 defined as the value of squares that are non-terminal\n",
    "    nonterminal_value = -1\n",
    "    if values[row][col] == nonterminal_value:\n",
    "        return False\n",
    "    else:\n",
    "        return True\n",
    "\n",
    "# gets a random valid start state given max rows and cols\n",
    "def get_rand_start(values, max_rows, max_cols):\n",
    "    start_row = np.random.randint(max_rows)\n",
    "    start_col = np.random.randint(max_cols)\n",
    "    while is_terminal(values, start_row, start_col):\n",
    "        start_row = np.random.randint(max_rows)\n",
    "        start_col = np.random.randint(max_cols)\n",
    "    return start_row, start_col\n",
    "\n",
    "# get the next action following an epsilon greedy choice\n",
    "def get_next_action(q_table, epsilon, row, col):\n",
    "    # return greedy action\n",
    "    if np.random.random() < epsilon:\n",
    "        action_num = np.argmax(q_table[row][col])\n",
    "    # return random action\n",
    "    else:\n",
    "        action_num = np.random.randint(num_actions)\n",
    "    return action_num\n",
    "\n",
    "# get the next location. if invalid, don't move\n",
    "def get_next_location(old_row, old_col, max_rows, max_cols, action_num):\n",
    "    # check U, D, L, R\n",
    "    new_row = old_row\n",
    "    new_col = old_col\n",
    "    action_name = actions[action_num]\n",
    "    if action_name == 'up' and old_row > 0:\n",
    "        new_row = old_row - 1\n",
    "    elif action_name == 'right' and old_col < max_cols - 1:\n",
    "        new_col = old_col + 1\n",
    "    elif action_name == 'down' and old_row < max_rows - 1:\n",
    "        new_row = old_row + 1\n",
    "    elif action_name == 'left' and old_col > 0:\n",
    "        new_col = old_col - 1\n",
    "    # else invalid move -> dont move\n",
    "    return new_row, new_col\n",
    "\n",
    "# get the best path following the Q-table\n",
    "def get_best_path(q_table, values, start_row, start_col):\n",
    "    path = []\n",
    "    curr_row, curr_col = start_row, start_col\n",
    "    # keep appending while not terminal\n",
    "    while not is_terminal(values, curr_row, curr_col):\n",
    "        path.append([curr_row, curr_col])\n",
    "        action_num = get_next_action(q_table, 1, curr_row, curr_col)\n",
    "        curr_row, curr_col = get_next_location(curr_row, curr_col, height, width, action_num)\n",
    "    # append the terminal state as well\n",
    "    path.append([curr_row, curr_col])\n",
    "    return path"
   ]
  },
  {
   "cell_type": "code",
   "execution_count": 38,
   "metadata": {},
   "outputs": [],
   "source": [
    "# define Q-table\n",
    "q_table = np.zeros((height, width, num_actions))"
   ]
  },
  {
   "cell_type": "code",
   "execution_count": null,
   "metadata": {},
   "outputs": [],
   "source": []
  }
 ]
}